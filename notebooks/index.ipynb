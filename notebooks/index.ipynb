{
  "nbformat": 4,
  "nbformat_minor": 5,
  "metadata": {
    "kernelspec": {
      "display_name": "Python 3",
      "language": "python",
      "name": "python3"
    },
    "language_info": {
      "codemirror_mode": {
        "name": "ipython",
        "version": 3
      },
      "file_extension": ".py",
      "mimetype": "text/x-python",
      "name": "python",
      "nbconvert_exporter": "python",
      "pygments_lexer": "ipython3",
      "version": "3.8.6"
    },
    "colab": {
      "name": "index.ipynb",
      "provenance": [],
      "include_colab_link": true
    }
  },
  "cells": [
    {
      "cell_type": "markdown",
      "metadata": {
        "id": "view-in-github",
        "colab_type": "text"
      },
      "source": [
        "<a href=\"https://colab.research.google.com/github/makama-md/Geo/blob/main/notebooks/index.ipynb\" target=\"_parent\"><img src=\"https://colab.research.google.com/assets/colab-badge.svg\" alt=\"Open In Colab\"/></a>"
      ]
    },
    {
      "cell_type": "markdown",
      "metadata": {
        "id": "italic-prospect"
      },
      "source": [
        "<img src='https://radiant-assets.s3-us-west-2.amazonaws.com/PrimaryRadiantMLHubLogo.png' alt='Radiant MLHub Logo' width='300'/>"
      ],
      "id": "italic-prospect"
    },
    {
      "cell_type": "markdown",
      "metadata": {
        "id": "regulated-quick"
      },
      "source": [
        "# Radiant MLHub API Examples\n",
        "\n",
        "The notebooks below provide examples and tutorials to cover some common uses of Radiant MLHub data. All examples utilize Python in Jupyter Notebooks."
      ],
      "id": "regulated-quick"
    },
    {
      "cell_type": "markdown",
      "metadata": {
        "id": "provincial-disabled"
      },
      "source": [
        "## General\n",
        "\n",
        "General examples and tutorials for working with the Radiant MLHub API using Python.\n",
        "\n",
        "* [**How to access Radiant MLHub data**](./RadiantMLHub-intro.ipynb): Describes general pattern for accessing data through the Radiant MLHub API, including setting up authentication.\n",
        "* [**How to use the Radiant MLHub API**](./radiant-mlhub-api-know-how.ipynb): Step-by-step guide for accessing the Radiant MLHub API using Python."
      ],
      "id": "provincial-disabled"
    },
    {
      "cell_type": "markdown",
      "metadata": {
        "id": "running-ordinary"
      },
      "source": [
        "## Dataset Tutorials\n",
        "\n",
        "Examples and tutorials for accessing specific Radiant MLHub datasets using Python. While this does not cover all datasets available in the API, the principles here can be applied to accessing other datasets.\n",
        "\n",
        "* [**How to use the Radiant MLHub API to browse and download the BigEarthNet dataset**](./radiant-mlhub-bigearthnet.ipynb): Step-by-step guide for accessing the BigEarthNet dataset via Radiant MLHub.\n",
        "* [**How to use the Radiant MLHub API to browse and download the LandCoverNet dataset**](./radiant-mlhub-landcovernet.ipynb): Step-by-step guide for accessing the LandCoverNet dataset via Radiant MLHub."
      ],
      "id": "running-ordinary"
    },
    {
      "cell_type": "markdown",
      "metadata": {
        "id": "criminal-macintosh"
      },
      "source": [
        "## Competition-specific Guides\n",
        "\n",
        "Examples and tutorials for working with datasets related to specific competitions/challenges supported by Radiant MLHub. While the datasets may be specific to these competitions, many of the principles may be applicable to other Radiant MLHub datasets as well.\n",
        "\n",
        "#### NASA Tropical Storm Wind Speed Challenge\n",
        "\n",
        "* [**How to use the Radiant MLHub API to browse and download the NASA Tropical Storm Wind Speed Competition Data**](./NASA%20Tropical%20Storm%20Wind%20Speed%20Challenge/nasa-tropical-storm-wind-speed-challenge-getting-started.ipynb): Basic examples of how to use the API to download labels and source imagery for the NASA Tropical Storm Wind Speed Competition dataset.\n",
        "* [**Benchmark - Wind-dependent Variables: Predict Wind Speeds of Tropical Storms**](./NASA%20Tropical%20Storm%20Wind%20Speed%20Challenge/nasa-tropical-storm-wind-speed-challenge-benchmark.ipynb): The benchmark solution tutorial for the NASA Tropical Storm Wind Speed Competition.\n",
        "\n",
        "#### CV4A ICRL Crop Type Classification Challenge\n",
        "\n",
        "* [**A Guide to Access the data on Radiant MLHub**](./2020%20CV4A%20Crop%20Type%20Challenge/cv4a-crop-challenge-download-data.ipynb): Examples of accessing and downloading the CV4A ICRL Crop Type Classification Challenge data using Python.\n",
        "* [**A Guide to load & visualize the data in Python**](./2020%20CV4A%20Crop%20Type%20Challenge/cv4a-crop-challenge-load-data.ipynb): Examples of loading the CV4A ICRL Crop Type Classification Challenge data using Python.\n"
      ],
      "id": "criminal-macintosh"
    },
    {
      "cell_type": "code",
      "metadata": {
        "id": "outdoor-moses"
      },
      "source": [
        ""
      ],
      "id": "outdoor-moses",
      "execution_count": null,
      "outputs": []
    }
  ]
}